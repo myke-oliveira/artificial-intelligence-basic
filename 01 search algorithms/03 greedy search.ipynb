{
 "cells": [
  {
   "cell_type": "code",
   "execution_count": 14,
   "source": [
    "# cities\n",
    "A = (-11.4, 6.36, 'A')\n",
    "B = (-10.18, -0.28, 'B')\n",
    "C = (3.02, 1.2, 'C')\n",
    "D = (1.06, -4.06, 'D')\n",
    "E = (11.66, 4.36, 'E')\n",
    "F = (2.24, 7.24, 'F')\n",
    "\n",
    "cities = [A, B, C, D, E, F]\n",
    "\n",
    "            # A, B, C, D, E, F\n",
    "adjacency = [[0, 1, 1, 0, 0, 1], # A\n",
    "             [1, 0, 1, 0, 1, 0], # B\n",
    "             [1, 1, 0, 1, 1, 1], # C\n",
    "             [0, 0, 1, 0, 1, 1], # D\n",
    "             [0, 1, 1, 1, 0, 0], # E\n",
    "             [1, 0, 1, 1, 0, 0]] # F\n",
    "\n",
    "\n",
    "distance = lambda X, Y: ((X[0] - Y[0])**2 + (X[1] - Y[1])**2)**0.5\n",
    "\n",
    "START_CITY = A\n",
    "END_CITY = E\n",
    "\n",
    "def adjacent_cities(city):\n",
    "    global cities\n",
    "    index = cities.index(city)\n",
    "    adjacency_vector = adjacency[index]\n",
    "    adjacent_cities = []\n",
    "    for i, is_adjacent in enumerate(adjacency_vector):\n",
    "        if is_adjacent:\n",
    "            adjacent_cities.append(cities[i])\n",
    "    return adjacent_cities\n"
   ],
   "outputs": [],
   "metadata": {}
  },
  {
   "cell_type": "code",
   "execution_count": 15,
   "source": [
    "class Gread_search:\n",
    "    def __init__(self, start_city, end_city):\n",
    "        self.start_city = start_city\n",
    "        self.end_city = end_city\n",
    "        self.path = []\n",
    "        self.visited_cities = []\n",
    "        self.cust = 0\n",
    "\n",
    "    def run(self, present_city=None):\n",
    "        if present_city is None:\n",
    "            present_city = self.start_city\n",
    "        \n",
    "        self.path.append(present_city)\n",
    "\n",
    "        if present_city == self.end_city:\n",
    "            return self.path\n",
    "\n",
    "        next_city = None\n",
    "\n",
    "        for city in adjacent_cities(present_city):\n",
    "            if city in self.visited_cities:\n",
    "                continue\n",
    "            self.visited_cities.append(city)\n",
    "            if next_city is None or distance(city, self.end_city) < distance(next_city, self.end_city):\n",
    "                next_city = city\n",
    "    \n",
    "        self.cust += distance(present_city, next_city)\n",
    "        return self.run(next_city)\n"
   ],
   "outputs": [],
   "metadata": {}
  },
  {
   "cell_type": "code",
   "execution_count": 16,
   "source": [
    "greed_search = Gread_search(START_CITY, END_CITY)\n",
    "greed_search.run()"
   ],
   "outputs": [
    {
     "output_type": "execute_result",
     "data": {
      "text/plain": [
       "[(-11.4, 6.36, 'A'), (3.02, 1.2, 'C'), (11.66, 4.36, 'E')]"
      ]
     },
     "metadata": {},
     "execution_count": 16
    }
   ],
   "metadata": {}
  },
  {
   "cell_type": "code",
   "execution_count": 17,
   "source": [
    "greed_search.cust"
   ],
   "outputs": [
    {
     "output_type": "execute_result",
     "data": {
      "text/plain": [
       "24.515156195820488"
      ]
     },
     "metadata": {},
     "execution_count": 17
    }
   ],
   "metadata": {}
  }
 ],
 "metadata": {
  "orig_nbformat": 4,
  "language_info": {
   "name": "python",
   "version": "3.8.10",
   "mimetype": "text/x-python",
   "codemirror_mode": {
    "name": "ipython",
    "version": 3
   },
   "pygments_lexer": "ipython3",
   "nbconvert_exporter": "python",
   "file_extension": ".py"
  },
  "kernelspec": {
   "name": "python3",
   "display_name": "Python 3.8.10 64-bit"
  },
  "interpreter": {
   "hash": "31f2aee4e71d21fbe5cf8b01ff0e069b9275f58929596ceb00d14d90e3e16cd6"
  }
 },
 "nbformat": 4,
 "nbformat_minor": 2
}