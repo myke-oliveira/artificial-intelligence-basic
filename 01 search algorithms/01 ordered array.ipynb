{
    "cells": [
        {
            "cell_type": "code",
            "execution_count": 1,
            "source": [
                "import numpy as np"
            ],
            "outputs": [],
            "metadata": {}
        },
        {
            "cell_type": "code",
            "execution_count": 2,
            "source": [
                "class VetorOrdenado:\n",
                "\n",
                "    def __init__(self, capacidade):\n",
                "        self.capacidade = capacidade\n",
                "        self.ultima_posicao = -1\n",
                "        self.valores = np.empty(self.capacidade, dtype=int)\n",
                "\n",
                "    # O(n)\n",
                "    def imprime(self):\n",
                "        if self.ultima_posicao == -1:\n",
                "            print('O vetor está vazio')\n",
                "        else:\n",
                "            for i in range(self.ultima_posicao + 1):\n",
                "                print(i, ' - ', self.valores[i])\n",
                "\n",
                "    # O(n)\n",
                "    def insere(self, valor):\n",
                "        if self.ultima_posicao == self.capacidade - 1:\n",
                "            print('Capacidade máxima atingida')\n",
                "            return\n",
                "\n",
                "        posicao = 0\n",
                "        for i in range(self.ultima_posicao + 1):\n",
                "            posicao = i\n",
                "            if self.valores[i] > valor:\n",
                "                break\n",
                "            if i == self.ultima_posicao:\n",
                "                posicao = i + 1\n",
                "\n",
                "        x = self.ultima_posicao\n",
                "        while x >= posicao:\n",
                "            self.valores[x + 1] = self.valores[x]\n",
                "            x -= 1\n",
                "\n",
                "        self.valores[posicao] = valor\n",
                "        self.ultima_posicao += 1"
            ],
            "outputs": [],
            "metadata": {}
        },
        {
            "cell_type": "code",
            "execution_count": 3,
            "source": [
                "vetor = VetorOrdenado(10)\n",
                "vetor.imprime()"
            ],
            "outputs": [
                {
                    "output_type": "stream",
                    "name": "stdout",
                    "text": [
                        "O vetor está vazio\n"
                    ]
                }
            ],
            "metadata": {}
        },
        {
            "cell_type": "code",
            "execution_count": 4,
            "source": [
                "vetor.insere(6)\n",
                "vetor.imprime()"
            ],
            "outputs": [
                {
                    "output_type": "stream",
                    "name": "stdout",
                    "text": [
                        "0  -  6\n"
                    ]
                }
            ],
            "metadata": {}
        },
        {
            "cell_type": "code",
            "execution_count": 5,
            "source": [
                "vetor.insere(4)\n",
                "vetor.imprime()"
            ],
            "outputs": [
                {
                    "output_type": "stream",
                    "name": "stdout",
                    "text": [
                        "0  -  4\n",
                        "1  -  6\n"
                    ]
                }
            ],
            "metadata": {}
        },
        {
            "cell_type": "code",
            "execution_count": 6,
            "source": [
                "vetor.insere(3)\n",
                "vetor.imprime()"
            ],
            "outputs": [
                {
                    "output_type": "stream",
                    "name": "stdout",
                    "text": [
                        "0  -  3\n",
                        "1  -  4\n",
                        "2  -  6\n"
                    ]
                }
            ],
            "metadata": {}
        },
        {
            "cell_type": "code",
            "execution_count": 7,
            "source": [
                "vetor.insere(5)\n",
                "vetor.imprime()"
            ],
            "outputs": [
                {
                    "output_type": "stream",
                    "name": "stdout",
                    "text": [
                        "0  -  3\n",
                        "1  -  4\n",
                        "2  -  5\n",
                        "3  -  6\n"
                    ]
                }
            ],
            "metadata": {}
        },
        {
            "cell_type": "code",
            "execution_count": 8,
            "source": [
                "vetor.insere(1)\n",
                "vetor.imprime()"
            ],
            "outputs": [
                {
                    "output_type": "stream",
                    "name": "stdout",
                    "text": [
                        "0  -  1\n",
                        "1  -  3\n",
                        "2  -  4\n",
                        "3  -  5\n",
                        "4  -  6\n"
                    ]
                }
            ],
            "metadata": {}
        },
        {
            "cell_type": "code",
            "execution_count": 9,
            "source": [
                "vetor.insere(8)\n",
                "vetor.imprime()"
            ],
            "outputs": [
                {
                    "output_type": "stream",
                    "name": "stdout",
                    "text": [
                        "0  -  1\n",
                        "1  -  3\n",
                        "2  -  4\n",
                        "3  -  5\n",
                        "4  -  6\n",
                        "5  -  8\n"
                    ]
                }
            ],
            "metadata": {}
        }
    ],
    "metadata": {
        "orig_nbformat": 4,
        "language_info": {
            "name": "python",
            "version": "3.8.10",
            "mimetype": "text/x-python",
            "codemirror_mode": {
                "name": "ipython",
                "version": 3
            },
            "pygments_lexer": "ipython3",
            "nbconvert_exporter": "python",
            "file_extension": ".py"
        },
        "kernelspec": {
            "name": "python3",
            "display_name": "Python 3.8.10 64-bit"
        },
        "interpreter": {
            "hash": "31f2aee4e71d21fbe5cf8b01ff0e069b9275f58929596ceb00d14d90e3e16cd6"
        }
    },
    "nbformat": 4,
    "nbformat_minor": 2
}